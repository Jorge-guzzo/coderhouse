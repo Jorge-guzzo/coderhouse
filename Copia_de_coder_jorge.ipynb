{
  "nbformat": 4,
  "nbformat_minor": 0,
  "metadata": {
    "colab": {
      "provenance": [],
      "toc_visible": true,
      "include_colab_link": true
    },
    "kernelspec": {
      "name": "python3",
      "display_name": "Python 3"
    },
    "language_info": {
      "name": "python"
    }
  },
  "cells": [
    {
      "cell_type": "markdown",
      "metadata": {
        "id": "view-in-github",
        "colab_type": "text"
      },
      "source": [
        "<a href=\"https://colab.research.google.com/github/Jorge-guzzo/coderhouse/blob/main/Copia_de_coder_jorge.ipynb\" target=\"_parent\"><img src=\"https://colab.research.google.com/assets/colab-badge.svg\" alt=\"Open In Colab\"/></a>"
      ]
    },
    {
      "cell_type": "markdown",
      "source": [
        "# Nueva sección"
      ],
      "metadata": {
        "id": "ozMxEqAvAY9P"
      }
    },
    {
      "cell_type": "code",
      "execution_count": null,
      "metadata": {
        "colab": {
          "base_uri": "https://localhost:8080/"
        },
        "id": "j2HqTEpdjOd_",
        "outputId": "96193dca-625c-4309-82bf-e7c364122e7e"
      },
      "outputs": [
        {
          "output_type": "stream",
          "name": "stdout",
          "text": [
            "Requirement already satisfied: requests in /usr/local/lib/python3.10/dist-packages (2.31.0)\n",
            "Requirement already satisfied: charset-normalizer<4,>=2 in /usr/local/lib/python3.10/dist-packages (from requests) (3.3.1)\n",
            "Requirement already satisfied: idna<4,>=2.5 in /usr/local/lib/python3.10/dist-packages (from requests) (3.4)\n",
            "Requirement already satisfied: urllib3<3,>=1.21.1 in /usr/local/lib/python3.10/dist-packages (from requests) (2.0.7)\n",
            "Requirement already satisfied: certifi>=2017.4.17 in /usr/local/lib/python3.10/dist-packages (from requests) (2023.7.22)\n"
          ]
        }
      ],
      "source": [
        "pip install requests"
      ]
    },
    {
      "cell_type": "code",
      "source": [
        "import requests\n",
        "from requests import Request, Session\n",
        "from requests.exceptions import ConnectionError, Timeout, TooManyRedirects"
      ],
      "metadata": {
        "id": "LpWuZjd7jXlm"
      },
      "execution_count": 16,
      "outputs": []
    },
    {
      "cell_type": "code",
      "source": [
        "import json\n",
        "import pandas as pd\n",
        "import time\n",
        "\n",
        "import os\n",
        "from configparser import ConfigParser\n",
        "\n",
        "from pathlib import Path\n",
        "\n",
        "config = ConfigParser()"
      ],
      "metadata": {
        "id": "zqvf8eU1qSkE"
      },
      "execution_count": 17,
      "outputs": []
    },
    {
      "cell_type": "code",
      "source": [
        "url = 'https://sandbox-api.coinmarketcap.com/v1/cryptocurrency/listings/latest'\n",
        "endpoint = {\n",
        "\"data\": [\n",
        "{\n",
        "\"cover\": \"https://academy-public.coinmarketcap.com/optimized-uploads/0aec0502868046419ceace229f92601f.gif\",\n",
        "\"assets\": [\n",
        "{\n",
        "\"id\": 1027,\n",
        "\"name\": \"Ethereum\",\n",
        "\"symbol\": \"ETH\",\n",
        "\"slug\": \"ethereum\"\n",
        "}\n",
        "],\n",
        "\"created_at\": \"2021-05-05T00:00:00Z\",\n",
        "\"released_at\": \"2021-05-05T00:00:00Z\",\n",
        "\"title\": \"Article Title\",\n",
        "\"subtitle\": \"Article Subtitle\",\n",
        "\"type\": \"alexandria\",\n",
        "\"source_name\": \"Connor Sephton\",\n",
        "\"source_url\": \"https://coinmarketcap.com/alexandria/article/coinmarketcap-news-august-9-u-s-comes-for-tornado-cash\"\n",
        "}\n",
        "],\n",
        "\"status\": {\n",
        "\"timestamp\": \"2018-06-02T22:51:28.209Z\",\n",
        "\"error_code\": 0,\n",
        "\"error_message\": \"\",\n",
        "\"elapsed\": 10,\n",
        "\"credit_count\": 1\n",
        "}}\n",
        "CMC_PRO_API_KEY = '51cf7543-d1ab-4b87-be0c-171773c1db67'\n",
        "params = {\n",
        "  'start':'1',\n",
        "  'limit':'50',\n",
        "  'convert':'ARS'\n",
        "}\n",
        "headers = {\n",
        "  'Accepts': 'application/json',\n",
        "  'X-CMC_PRO_API_KEY': 'b54bcf4d-1bca-4e8e-9a24-22ff2c3d462c',\n",
        "}\n",
        "\n",
        "session = Session()\n",
        "session.headers.update(headers)\n",
        "\n",
        "resp = requests.get(url,params=params,headers=headers)"
      ],
      "metadata": {
        "id": "Lmc03eovTfSP"
      },
      "execution_count": 22,
      "outputs": []
    },
    {
      "cell_type": "code",
      "source": [
        "print(CMC_PRO_API_KEY)"
      ],
      "metadata": {
        "id": "yat2hqU5NO2s",
        "outputId": "ed49d950-0aa7-4e83-c4b1-a6d41d426281",
        "colab": {
          "base_uri": "https://localhost:8080/"
        }
      },
      "execution_count": 26,
      "outputs": [
        {
          "output_type": "stream",
          "name": "stdout",
          "text": [
            "51cf7543-d1ab-4b87-be0c-171773c1db67\n"
          ]
        }
      ]
    },
    {
      "cell_type": "code",
      "source": [
        "data = resp.json()"
      ],
      "metadata": {
        "id": "banaKTynDaJa"
      },
      "execution_count": 31,
      "outputs": []
    },
    {
      "cell_type": "code",
      "source": [
        "if resp.status_code == 200:\n",
        "    data = resp.json()\n",
        "else:\n",
        "    print(\"Error al hacer la solicitud:\", resp.status_code)"
      ],
      "metadata": {
        "id": "bXan_BjgMq4k"
      },
      "execution_count": 30,
      "outputs": []
    },
    {
      "cell_type": "code",
      "source": [
        "print(resp.json)"
      ],
      "metadata": {
        "colab": {
          "base_uri": "https://localhost:8080/"
        },
        "id": "mS-FKzk7TGcY",
        "outputId": "1a9d96f7-d2a9-4022-d625-dda9b0f133f0"
      },
      "execution_count": 29,
      "outputs": [
        {
          "output_type": "stream",
          "name": "stdout",
          "text": [
            "<bound method Response.json of <Response [200]>>\n"
          ]
        }
      ]
    },
    {
      "cell_type": "code",
      "source": [
        "print(data)"
      ],
      "metadata": {
        "colab": {
          "base_uri": "https://localhost:8080/"
        },
        "id": "85KjBxaPT3ea",
        "outputId": "0f792bce-9533-45af-bbea-01d041358282"
      },
      "execution_count": 38,
      "outputs": [
        {
          "output_type": "stream",
          "name": "stdout",
          "text": [
            "{'status': {'timestamp': '2023-11-03T13:07:38.970Z', 'error_code': 0, 'error_message': None, 'elapsed': 2, 'credit_count': 1, 'notice': None}, 'data': [{'id': 1490, 'name': 'wvooi2u828', 'symbol': '9tbrrxsojbj', 'slug': 'kagc6783opg', 'cmc_rank': 6431, 'num_market_pairs': 6957, 'circulating_supply': 5695, 'total_supply': 7910, 'max_supply': 6991, 'infinite_supply': None, 'last_updated': '2023-11-03T13:07:38.969Z', 'date_added': '2023-11-03T13:07:38.969Z', 'tags': ['0r33afs3h3oa', '7l2t2fodtqf', '8y8q1j37bls', '0cuqzv3skkdr', 'o46vdk7b99q', 'bvx0p2yrfj6', 'ms3wg63nsac', '3d477suolca', '9ywy42zmw6d', '63n74y4dfwv'], 'platform': None, 'self_reported_circulating_supply': None, 'self_reported_market_cap': None, 'quote': {'ARS': {'price': 0.2940859975322816, 'volume_24h': 6603, 'volume_change_24h': 0.16388771483070208, 'percent_change_1h': 0.10754044143359387, 'percent_change_24h': 0.4620402177007681, 'percent_change_7d': 0.21357051813397687, 'market_cap': 0.8306160663626898, 'market_cap_dominance': 4882, 'fully_diluted_market_cap': 0.9229057152310152, 'last_updated': '2023-11-03T13:07:38.969Z'}}}, {'id': 1740, 'name': 'q5f9qjnzyw', 'symbol': '6bjncs6k19u', 'slug': 'l8kn77l87qa', 'cmc_rank': 9171, 'num_market_pairs': 9919, 'circulating_supply': 6157, 'total_supply': 1889, 'max_supply': 609, 'infinite_supply': None, 'last_updated': '2023-11-03T13:07:38.969Z', 'date_added': '2023-11-03T13:07:38.970Z', 'tags': ['0gthmrla50x5', 'cbbaobq5ot', 'ljveh3q1yco', 'fn42g0e6m84', 'xflud8s3mno', 'qbs0ftad2mo', 'pct521fzmzc', '1jigcjxagk7', '1j18dwc7k1q', 'l8u1p5hc3bl'], 'platform': None, 'self_reported_circulating_supply': None, 'self_reported_market_cap': None, 'quote': {'ARS': {'price': 0.5979098104184184, 'volume_24h': 9880, 'volume_change_24h': 0.44709480907253174, 'percent_change_1h': 0.976856047558744, 'percent_change_24h': 0.9406617249633358, 'percent_change_7d': 0.5393586758571323, 'market_cap': 0.013637837782228823, 'market_cap_dominance': 7827, 'fully_diluted_market_cap': 0.6828785417369623, 'last_updated': '2023-11-03T13:07:38.970Z'}}}, {'id': 3421, 'name': 'bm4n4to7l5', 'symbol': 'mljkibzakl', 'slug': 'y1tc0atlptq', 'cmc_rank': 3008, 'num_market_pairs': 3078, 'circulating_supply': 7980, 'total_supply': 3864, 'max_supply': 6362, 'infinite_supply': None, 'last_updated': '2023-11-03T13:07:38.970Z', 'date_added': '2023-11-03T13:07:38.970Z', 'tags': ['etk51uj0nyg', 'qhjhpn30k4', 'zserxun40cq', '0r5qyexs8t8', '08zgq92c8pun', '5w1lsc41s0v', 'bgb8e9qpey', '4fmcmip69a9', 'qst3oblrvfi', '9qhxb72u0ip'], 'platform': None, 'self_reported_circulating_supply': None, 'self_reported_market_cap': None, 'quote': {'ARS': {'price': 0.3356606579655099, 'volume_24h': 1159, 'volume_change_24h': 0.0581218333287119, 'percent_change_1h': 0.8394603457443333, 'percent_change_24h': 0.11647221717929823, 'percent_change_7d': 0.4655494373757483, 'market_cap': 0.2564441167510818, 'market_cap_dominance': 8960, 'fully_diluted_market_cap': 0.8388588961571151, 'last_updated': '2023-11-03T13:07:38.970Z'}}}, {'id': 8895, 'name': '5qb9ppeisu', 'symbol': '2qoyfj6tqss', 'slug': '2uh3mll6ifh', 'cmc_rank': 8287, 'num_market_pairs': 8223, 'circulating_supply': 9037, 'total_supply': 6367, 'max_supply': 187, 'infinite_supply': None, 'last_updated': '2023-11-03T13:07:38.970Z', 'date_added': '2023-11-03T13:07:38.970Z', 'tags': ['pxqm3hj6ik', 'k0ov3di7ru', 'dwlqta3qbsk', 'yjy7c4g56oc', '1ovcapqf4l5', '61zo7hqqucm', '9qj5uy7zpo', '92m0ur1aab9', '9fqiuw26q67', 'h64i84z43w8'], 'platform': None, 'self_reported_circulating_supply': None, 'self_reported_market_cap': None, 'quote': {'ARS': {'price': 0.2669586526862282, 'volume_24h': 7849, 'volume_change_24h': 0.08344788568966699, 'percent_change_1h': 0.2672403574763196, 'percent_change_24h': 0.019381086231150313, 'percent_change_7d': 0.45704188459677453, 'market_cap': 0.3746156907008247, 'market_cap_dominance': 1211, 'fully_diluted_market_cap': 0.8625931282585633, 'last_updated': '2023-11-03T13:07:38.970Z'}}}, {'id': 1925, 'name': '6vk0jl7j4rp', 'symbol': 'ybgxpplber', 'slug': 'biv4jaiaajk', 'cmc_rank': 1347, 'num_market_pairs': 9385, 'circulating_supply': 773, 'total_supply': 1717, 'max_supply': 4341, 'infinite_supply': None, 'last_updated': '2023-11-03T13:07:38.970Z', 'date_added': '2023-11-03T13:07:38.970Z', 'tags': ['x5ui0m7cmyq', 'wzv4f6901sm', '64fpngqttmd', '246yj9bzgr', 'e38dsjejkpb', '3u1jlf1tyac', 'p33dfrk6zb', 'v5y0gwtoxb8', '2uendymgf1b', '9qu3jc3zfit'], 'platform': None, 'self_reported_circulating_supply': None, 'self_reported_market_cap': None, 'quote': {'ARS': {'price': 0.09351006454362065, 'volume_24h': 6373, 'volume_change_24h': 0.0237804291811321, 'percent_change_1h': 0.6143199468411382, 'percent_change_24h': 0.5283297431064442, 'percent_change_7d': 0.2577357720555955, 'market_cap': 0.2810770875342907, 'market_cap_dominance': 1217, 'fully_diluted_market_cap': 0.6072607951447029, 'last_updated': '2023-11-03T13:07:38.970Z'}}}, {'id': 5654, 'name': '1bbms95yj46', 'symbol': 'njxzb957qx', 'slug': 'yyhwnd9w6a', 'cmc_rank': 5809, 'num_market_pairs': 6531, 'circulating_supply': 1355, 'total_supply': 2306, 'max_supply': 7968, 'infinite_supply': None, 'last_updated': '2023-11-03T13:07:38.970Z', 'date_added': '2023-11-03T13:07:38.970Z', 'tags': ['fv4a4co2e0o', 'vm6ddl7ti6b', '3wez5qeei1a', 'ya0teuzdiyl', 'oc3qohl3hyg', 'bsh39z0v7ht', '2038rilxhes', 'fts5i2n5wco', 'oxkk61bc2i', 'w0rhurdt6xe'], 'platform': None, 'self_reported_circulating_supply': None, 'self_reported_market_cap': None, 'quote': {'ARS': {'price': 0.4835692835977936, 'volume_24h': 5754, 'volume_change_24h': 0.06996929338833846, 'percent_change_1h': 0.03597099128772374, 'percent_change_24h': 0.06112695833676174, 'percent_change_7d': 0.5513867790374247, 'market_cap': 0.9808717340265691, 'market_cap_dominance': 9416, 'fully_diluted_market_cap': 0.3696866429944121, 'last_updated': '2023-11-03T13:07:38.970Z'}}}, {'id': 9311, 'name': '1tor20hjggp', 'symbol': 'tm3hs5gdycf', 'slug': '4x7bf5nhnp8', 'cmc_rank': 4621, 'num_market_pairs': 9028, 'circulating_supply': 7502, 'total_supply': 7751, 'max_supply': 2063, 'infinite_supply': None, 'last_updated': '2023-11-03T13:07:38.970Z', 'date_added': '2023-11-03T13:07:38.970Z', 'tags': ['2ik0y2fs7j3', 'sjaytsoh7um', 'xh65q45kqh', 'eksmwd7eyn', '6fw83glzlr3', 'jyibtk46df', 's6koppdaa0r', 'xhb1d4y4w9d', 'eozm3l2521', '6jh0j1kx604'], 'platform': None, 'self_reported_circulating_supply': None, 'self_reported_market_cap': None, 'quote': {'ARS': {'price': 0.36396015986047225, 'volume_24h': 5330, 'volume_change_24h': 0.34860677103626125, 'percent_change_1h': 0.19860135186557382, 'percent_change_24h': 0.45937694536460394, 'percent_change_7d': 0.6983895253064791, 'market_cap': 0.6443045603252426, 'market_cap_dominance': 9343, 'fully_diluted_market_cap': 0.7932435873886297, 'last_updated': '2023-11-03T13:07:38.970Z'}}}, {'id': 9212, 'name': 'hpgiyu62q8', 'symbol': '3sq6d9adj11', 'slug': '7vmfnjw389w', 'cmc_rank': 7148, 'num_market_pairs': 2758, 'circulating_supply': 9881, 'total_supply': 8638, 'max_supply': 8550, 'infinite_supply': None, 'last_updated': '2023-11-03T13:07:38.970Z', 'date_added': '2023-11-03T13:07:38.970Z', 'tags': ['ytheu98sv7f', 'gr7isqj3jrf', 'cometu9814m', '1nb4x9yj846', '2egsfvavis', '3qaf3eu4n8t', 'nr6iyxstkoa', 'yn6ui8kl42', 'up16ymzzvlb', '7epo2xd8hn'], 'platform': None, 'self_reported_circulating_supply': None, 'self_reported_market_cap': None, 'quote': {'ARS': {'price': 0.03819953239722573, 'volume_24h': 6592, 'volume_change_24h': 0.7490041399051566, 'percent_change_1h': 0.39688842878668407, 'percent_change_24h': 0.8975372611924659, 'percent_change_7d': 0.7285657203109606, 'market_cap': 0.29866350591204327, 'market_cap_dominance': 8639, 'fully_diluted_market_cap': 0.43685209682775694, 'last_updated': '2023-11-03T13:07:38.970Z'}}}, {'id': 4461, 'name': 'xc7j1ayo71s', 'symbol': 'qxo9miw5jm', 'slug': '5wegyxoel4u', 'cmc_rank': 9019, 'num_market_pairs': 525, 'circulating_supply': 8784, 'total_supply': 8010, 'max_supply': 4332, 'infinite_supply': None, 'last_updated': '2023-11-03T13:07:38.970Z', 'date_added': '2023-11-03T13:07:38.970Z', 'tags': ['lvvlrnddbi9', '9ok7vbal3d', 'ijbjbai6mkk', 'v5l6vms37u', 'i255pfmc8f', 'kc5gd7wh2kg', 'wbkl7u2cdte', '688d1aygpar', '4hypbc11j13', 'tu8umwza2'], 'platform': None, 'self_reported_circulating_supply': None, 'self_reported_market_cap': None, 'quote': {'ARS': {'price': 0.157153235732284, 'volume_24h': 5705, 'volume_change_24h': 0.7247611301601475, 'percent_change_1h': 0.3774388186233866, 'percent_change_24h': 0.09810432793727486, 'percent_change_7d': 0.4966623814106146, 'market_cap': 0.6172566377730211, 'market_cap_dominance': 1547, 'fully_diluted_market_cap': 0.30626058203803064, 'last_updated': '2023-11-03T13:07:38.970Z'}}}, {'id': 6982, 'name': 'eghmbxjs9cn', 'symbol': 'lk3qih4adwi', 'slug': '92j5nf6pcc', 'cmc_rank': 98, 'num_market_pairs': 6511, 'circulating_supply': 9406, 'total_supply': 6103, 'max_supply': 9680, 'infinite_supply': None, 'last_updated': '2023-11-03T13:07:38.970Z', 'date_added': '2023-11-03T13:07:38.970Z', 'tags': ['v88kh0nr0c', 'h4btrmy2o98', 'tl71x3794mn', '3no0stra0b6', 'cc879jtu9n', 'f24gv9i084', 'btth42ocyur', 'ikcevum7nif', '4ow9o34nu0v', '29y34j26tvk'], 'platform': None, 'self_reported_circulating_supply': None, 'self_reported_market_cap': None, 'quote': {'ARS': {'price': 0.11658730202890699, 'volume_24h': 2250, 'volume_change_24h': 0.8381354747656642, 'percent_change_1h': 0.08323371144105196, 'percent_change_24h': 0.6161309920214908, 'percent_change_7d': 0.811214599466507, 'market_cap': 0.6931114064038211, 'market_cap_dominance': 9238, 'fully_diluted_market_cap': 0.7785794263450121, 'last_updated': '2023-11-03T13:07:38.970Z'}}}]}\n"
          ]
        }
      ]
    }
  ]
}