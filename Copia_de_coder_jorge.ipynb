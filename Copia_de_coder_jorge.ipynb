{
  "nbformat": 4,
  "nbformat_minor": 0,
  "metadata": {
    "colab": {
      "provenance": [],
      "toc_visible": true,
      "include_colab_link": true
    },
    "kernelspec": {
      "name": "python3",
      "display_name": "Python 3"
    },
    "language_info": {
      "name": "python"
    }
  },
  "cells": [
    {
      "cell_type": "markdown",
      "metadata": {
        "id": "view-in-github",
        "colab_type": "text"
      },
      "source": [
        "<a href=\"https://colab.research.google.com/github/Jorge-guzzo/coderhouse/blob/main/Copia_de_coder_jorge.ipynb\" target=\"_parent\"><img src=\"https://colab.research.google.com/assets/colab-badge.svg\" alt=\"Open In Colab\"/></a>"
      ]
    },
    {
      "cell_type": "markdown",
      "source": [
        "# Nueva sección"
      ],
      "metadata": {
        "id": "ozMxEqAvAY9P"
      }
    },
    {
      "cell_type": "code",
      "execution_count": null,
      "metadata": {
        "colab": {
          "base_uri": "https://localhost:8080/"
        },
        "id": "j2HqTEpdjOd_",
        "outputId": "96193dca-625c-4309-82bf-e7c364122e7e"
      },
      "outputs": [
        {
          "output_type": "stream",
          "name": "stdout",
          "text": [
            "Requirement already satisfied: requests in /usr/local/lib/python3.10/dist-packages (2.31.0)\n",
            "Requirement already satisfied: charset-normalizer<4,>=2 in /usr/local/lib/python3.10/dist-packages (from requests) (3.3.1)\n",
            "Requirement already satisfied: idna<4,>=2.5 in /usr/local/lib/python3.10/dist-packages (from requests) (3.4)\n",
            "Requirement already satisfied: urllib3<3,>=1.21.1 in /usr/local/lib/python3.10/dist-packages (from requests) (2.0.7)\n",
            "Requirement already satisfied: certifi>=2017.4.17 in /usr/local/lib/python3.10/dist-packages (from requests) (2023.7.22)\n"
          ]
        }
      ],
      "source": [
        "pip install requests"
      ]
    },
    {
      "cell_type": "code",
      "source": [
        "import requests"
      ],
      "metadata": {
        "id": "LpWuZjd7jXlm"
      },
      "execution_count": null,
      "outputs": []
    },
    {
      "cell_type": "code",
      "source": [
        "import json\n",
        "import pandas as pd\n",
        "import time\n",
        "\n",
        "import os\n",
        "from configparser import ConfigParser\n",
        "\n",
        "from pathlib import Path\n",
        "\n",
        "config = ConfigParser()"
      ],
      "metadata": {
        "id": "zqvf8eU1qSkE"
      },
      "execution_count": null,
      "outputs": []
    },
    {
      "cell_type": "code",
      "source": [
        "url = 'https://sandbox-api.coinmarketcap.com/v1/cryptocurrency/listings/latest'\n",
        "endpoint = {\n",
        "\"data\": [\n",
        "{\n",
        "\"cover\": \"https://academy-public.coinmarketcap.com/optimized-uploads/0aec0502868046419ceace229f92601f.gif\",\n",
        "\"assets\": [\n",
        "{\n",
        "\"id\": 1027,\n",
        "\"name\": \"Ethereum\",\n",
        "\"symbol\": \"ETH\",\n",
        "\"slug\": \"ethereum\"\n",
        "}\n",
        "],\n",
        "\"created_at\": \"2021-05-05T00:00:00Z\",\n",
        "\"released_at\": \"2021-05-05T00:00:00Z\",\n",
        "\"title\": \"Article Title\",\n",
        "\"subtitle\": \"Article Subtitle\",\n",
        "\"type\": \"alexandria\",\n",
        "\"source_name\": \"Connor Sephton\",\n",
        "\"source_url\": \"https://coinmarketcap.com/alexandria/article/coinmarketcap-news-august-9-u-s-comes-for-tornado-cash\"\n",
        "}\n",
        "],\n",
        "\"status\": {\n",
        "\"timestamp\": \"2018-06-02T22:51:28.209Z\",\n",
        "\"error_code\": 0,\n",
        "\"error_message\": \"\",\n",
        "\"elapsed\": 10,\n",
        "\"credit_count\": 1\n",
        "}}\n",
        "CMC_PRO_API_KEY = '51cf7543-d1ab-4b87-be0c-171773c1db67'\n",
        "params = {\n",
        "  'start':'1',\n",
        "  'limit':'50',\n",
        "  'convert':'ARS'\n",
        "}\n",
        "\n",
        "json = requests.get(url,params=params).json()\n"
      ],
      "metadata": {
        "id": "Lmc03eovTfSP"
      },
      "execution_count": null,
      "outputs": []
    },
    {
      "cell_type": "code",
      "source": [
        "print(CMC_PRO_API_KEY)"
      ],
      "metadata": {
        "id": "yat2hqU5NO2s",
        "outputId": "ed8bef87-4b91-4228-bdbc-0439cca84ef0",
        "colab": {
          "base_uri": "https://localhost:8080/"
        }
      },
      "execution_count": null,
      "outputs": [
        {
          "output_type": "stream",
          "name": "stdout",
          "text": [
            "51cf7543-d1ab-4b87-be0c-171773c1db67\n"
          ]
        }
      ]
    },
    {
      "cell_type": "code",
      "source": [
        "data = resp.json()"
      ],
      "metadata": {
        "id": "banaKTynDaJa"
      },
      "execution_count": null,
      "outputs": []
    },
    {
      "cell_type": "code",
      "source": [
        "if resp.status_code == 200:\n",
        "    data = resp.json()\n",
        "else:\n",
        "    print(\"Error al hacer la solicitud:\", resp.status_code)"
      ],
      "metadata": {
        "id": "bXan_BjgMq4k",
        "outputId": "7f86ad4f-f6c1-4e30-ddbc-d1a7bfc5a5f1",
        "colab": {
          "base_uri": "https://localhost:8080/"
        }
      },
      "execution_count": null,
      "outputs": [
        {
          "output_type": "stream",
          "name": "stdout",
          "text": [
            "Error al hacer la solicitud: 401\n"
          ]
        }
      ]
    }
  ]
}